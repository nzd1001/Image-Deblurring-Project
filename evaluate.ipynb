{
 "cells": [
  {
   "cell_type": "code",
   "execution_count": 1,
   "id": "d8af1605",
   "metadata": {},
   "outputs": [],
   "source": [
    "import os\n",
    "from PIL import Image\n",
    "import torch\n",
    "import torchvision.transforms as transforms\n",
    "from skimage.metrics import structural_similarity as ssim_metric\n",
    "from skimage.metrics import peak_signal_noise_ratio as psnr_metric\n",
    "import numpy as np\n",
    "from tqdm import tqdm"
   ]
  },
  {
   "cell_type": "code",
   "execution_count": 2,
   "id": "ec69e2c0",
   "metadata": {},
   "outputs": [],
   "source": [
    "def calculate_metrics(pred_dir, gt_dir):\n",
    "    transform = transforms.Compose([\n",
    "        transforms.ToTensor(),\n",
    "    ])\n",
    "\n",
    "    ssim_scores = []\n",
    "    psnr_scores = []\n",
    "\n",
    "    image_files = sorted([f for f in os.listdir(pred_dir) if f.lower().endswith(('.png', '.jpg', '.jpeg'))])\n",
    "\n",
    "    for img_name in tqdm(image_files, desc=\"Evaluating images\"):\n",
    "        pred_path = os.path.join(pred_dir, img_name)\n",
    "        gt_path = os.path.join(gt_dir, img_name)\n",
    "\n",
    "        if not os.path.exists(gt_path):\n",
    "            print(f\"Warning: Ground truth for {img_name} not found. Skipping.\")\n",
    "            continue\n",
    "\n",
    "        pred_img = Image.open(pred_path).convert(\"RGB\")\n",
    "        gt_img = Image.open(gt_path).convert(\"RGB\")\n",
    "\n",
    "        pred_tensor = transform(pred_img)\n",
    "        gt_tensor = transform(gt_img)\n",
    "\n",
    "        # Convert to numpy arrays for metric calculation\n",
    "        # Shape will be (C, H, W), e.g., (3, 224, 224)\n",
    "        pred_np = pred_tensor.numpy()\n",
    "        gt_np = gt_tensor.numpy()\n",
    "        \n",
    "        # --- FIX IS HERE ---\n",
    "        # Tell ssim_metric that the channel is on axis 0\n",
    "        ssim_val = ssim_metric(gt_np, pred_np, multichannel=True, data_range=1.0, channel_axis=0)\n",
    "        \n",
    "        # psnr_metric does not require channel_axis, it works correctly on (C, H, W)\n",
    "        psnr_val = psnr_metric(gt_np, pred_np, data_range=1.0)\n",
    "\n",
    "        ssim_scores.append(ssim_val)\n",
    "        psnr_scores.append(psnr_val)\n",
    "\n",
    "    avg_ssim = np.mean(ssim_scores)\n",
    "    avg_psnr = np.mean(psnr_scores)\n",
    "\n",
    "    print(f\"\\nAverage SSIM: {avg_ssim:.4f}\")\n",
    "    print(f\"Average PSNR: {avg_psnr:.2f} dB\")"
   ]
  },
  {
   "cell_type": "code",
   "execution_count": null,
   "id": "bd4e4fbb",
   "metadata": {},
   "outputs": [
    {
     "name": "stderr",
     "output_type": "stream",
     "text": [
      "Evaluating images: 100%|██████████| 1111/1111 [06:21<00:00,  2.91it/s]"
     ]
    },
    {
     "name": "stdout",
     "output_type": "stream",
     "text": [
      "\n",
      "Average SSIM: 0.8688\n",
      "Average PSNR: 28.85 dB\n"
     ]
    },
    {
     "name": "stderr",
     "output_type": "stream",
     "text": [
      "\n"
     ]
    }
   ],
   "source": [
    "pred_dir=\"data/test/outputs\"\n",
    "gt_dir=\"data/test/sharp\"\n",
    "calculate_metrics(pred_dir,gt_dir)"
   ]
  }
 ],
 "metadata": {
  "kernelspec": {
   "display_name": "base",
   "language": "python",
   "name": "python3"
  },
  "language_info": {
   "codemirror_mode": {
    "name": "ipython",
    "version": 3
   },
   "file_extension": ".py",
   "mimetype": "text/x-python",
   "name": "python",
   "nbconvert_exporter": "python",
   "pygments_lexer": "ipython3",
   "version": "3.12.4"
  }
 },
 "nbformat": 4,
 "nbformat_minor": 5
}
